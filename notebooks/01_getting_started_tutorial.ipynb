{
 "cells": [
  {
   "cell_type": "markdown",
   "metadata": {},
   "source": [
    "# 🤖 ML Trading Strategies - Getting Started Tutorial\n",
    "\n",
    "This notebook provides a step-by-step guide to using the ML Trading Strategies framework.\n",
    "\n",
    "## 📚 What You'll Learn\n",
    "\n",
    "1. Loading market data\n",
    "2. Engineering technical indicators\n",
    "3. Training machine learning models\n",
    "4. Backtesting your strategy\n",
    "5. Analyzing performance metrics\n",
    "\n",
    "## ⚠️ Important Note\n",
    "\n",
    "This is for educational purposes only. Not financial advice."
   ]
  },
  {
   "cell_type": "code",
   "execution_count": null,
   "metadata": {},
   "outputs": [],
   "source": [
    "# Import necessary libraries\n",
    "import sys\n",
    "import os\n",
    "\n",
    "# Add src to path\n",
    "sys.path.insert(0, os.path.abspath('../src'))\n",
    "\n",
    "import numpy as np\n",
    "import pandas as pd\n",
    "import matplotlib.pyplot as plt\n",
    "import seaborn as sns\n",
    "\n",
    "# Set plot style\n",
    "plt.style.use('seaborn-v0_8-darkgrid')\n",
    "sns.set_palette(\"husl\")\n",
    "\n",
    "print(\"✅ Libraries imported successfully!\")"
   ]
  },
  {
   "cell_type": "markdown",
   "metadata": {},
   "source": [
    "## 1️⃣ Step 1: Load Market Data\n",
    "\n",
    "We'll use synthetic data for this tutorial to avoid internet dependency."
   ]
  },
  {
   "cell_type": "code",
   "execution_count": null,
   "metadata": {},
   "outputs": [],
   "source": [
    "from utils.data_loader import DataLoader\n",
    "\n",
    "# Initialize data loader\n",
    "loader = DataLoader()\n",
    "\n",
    "# Generate synthetic data (no internet required)\n",
    "data = loader.generate_synthetic_data(\n",
    "    n_days=1000,\n",
    "    start_price=100.0,\n",
    "    volatility=0.02,\n",
    "    trend=0.0002,\n",
    "    random_state=42\n",
    ")\n",
    "\n",
    "print(f\"📊 Generated {len(data)} days of data\")\n",
    "print(f\"Date range: {data.index[0]} to {data.index[-1]}\")\n",
    "print(f\"\\nFirst few rows:\")\n",
    "data.head()"
   ]
  },
  {
   "cell_type": "code",
   "execution_count": null,
   "metadata": {},
   "outputs": [],
   "source": [
    "# Visualize the price data\n",
    "plt.figure(figsize=(14, 6))\n",
    "plt.plot(data.index, data['close'], label='Close Price', linewidth=1.5)\n",
    "plt.title('📈 Synthetic Stock Price Over Time', fontsize=16, fontweight='bold')\n",
    "plt.xlabel('Date', fontsize=12)\n",
    "plt.ylabel('Price ($)', fontsize=12)\n",
    "plt.legend()\n",
    "plt.grid(True, alpha=0.3)\n",
    "plt.tight_layout()\n",
    "plt.show()\n",
    "\n",
    "# Show basic statistics\n",
    "print(\"\\n📊 Price Statistics:\")\n",
    "print(data['close'].describe())"
   ]
  },
  {
   "cell_type": "markdown",
   "metadata": {},
   "source": [
    "## 2️⃣ Step 2: Feature Engineering\n",
    "\n",
    "Add technical indicators to the data."
   ]
  },
  {
   "cell_type": "code",
   "execution_count": null,
   "metadata": {},
   "outputs": [],
   "source": [
    "from features.technical_indicators import TechnicalIndicators\n",
    "\n",
    "# Initialize indicators\n",
    "indicators = TechnicalIndicators()\n",
    "\n",
    "# Add all technical indicators\n",
    "data_with_features = indicators.add_all_features(data.copy())\n",
    "\n",
    "print(f\"✅ Added features! Dataset now has {data_with_features.shape[1]} columns\")\n",
    "print(f\"\\nFeatures added: {data_with_features.shape[1] - data.shape[1]} indicators\")\n",
    "print(f\"\\nSample features:\")\n",
    "print(data_with_features.columns.tolist()[:10])"
   ]
  },
  {
   "cell_type": "code",
   "execution_count": null,
   "metadata": {},
   "outputs": [],
   "source": [
    "# Visualize some key indicators\n",
    "fig, axes = plt.subplots(3, 1, figsize=(14, 10))\n",
    "\n",
    "# Plot 1: Price with Moving Averages\n",
    "axes[0].plot(data_with_features.index, data_with_features['close'], label='Close', linewidth=1.5)\n",
    "axes[0].plot(data_with_features.index, data_with_features['sma_20'], label='SMA 20', alpha=0.7)\n",
    "axes[0].plot(data_with_features.index, data_with_features['sma_50'], label='SMA 50', alpha=0.7)\n",
    "axes[0].set_title('Price with Moving Averages', fontweight='bold')\n",
    "axes[0].legend()\n",
    "axes[0].grid(True, alpha=0.3)\n",
    "\n",
    "# Plot 2: RSI\n",
    "axes[1].plot(data_with_features.index, data_with_features['rsi_14'], label='RSI', color='purple', linewidth=1.5)\n",
    "axes[1].axhline(y=70, color='r', linestyle='--', alpha=0.5, label='Overbought')\n",
    "axes[1].axhline(y=30, color='g', linestyle='--', alpha=0.5, label='Oversold')\n",
    "axes[1].set_title('Relative Strength Index (RSI)', fontweight='bold')\n",
    "axes[1].set_ylim(0, 100)\n",
    "axes[1].legend()\n",
    "axes[1].grid(True, alpha=0.3)\n",
    "\n",
    "# Plot 3: MACD\n",
    "axes[2].plot(data_with_features.index, data_with_features['macd'], label='MACD', linewidth=1.5)\n",
    "axes[2].plot(data_with_features.index, data_with_features['macd_signal'], label='Signal', linewidth=1.5)\n",
    "axes[2].bar(data_with_features.index, data_with_features['macd_hist'], label='Histogram', alpha=0.3)\n",
    "axes[2].set_title('MACD Indicator', fontweight='bold')\n",
    "axes[2].legend()\n",
    "axes[2].grid(True, alpha=0.3)\n",
    "\n",
    "plt.tight_layout()\n",
    "plt.show()"
   ]
  },
  {
   "cell_type": "markdown",
   "metadata": {},
   "source": [
    "## 3️⃣ Step 3: Create Target Variable\n",
    "\n",
    "Define what we want to predict - future price movements."
   ]
  },
  {
   "cell_type": "code",
   "execution_count": null,
   "metadata": {},
   "outputs": [],
   "source": [
    "# Create target variable for 5-day forward returns\n",
    "data_with_features['target'] = loader.create_target_variable(\n",
    "    data_with_features,\n",
    "    horizon=5,\n",
    "    threshold=0.01,  # 1% threshold\n",
    "    binary=False\n",
    ")\n",
    "\n",
    "# Remove NaN values\n",
    "data_with_features = data_with_features.dropna()\n",
    "\n",
    "print(f\"✅ Target variable created!\")\n",
    "print(f\"\\nTarget distribution:\")\n",
    "print(data_with_features['target'].value_counts())\n",
    "print(f\"\\nClass balance:\")\n",
    "print(data_with_features['target'].value_counts(normalize=True) * 100)"
   ]
  },
  {
   "cell_type": "markdown",
   "metadata": {},
   "source": [
    "## 4️⃣ Step 4: Prepare Training Data\n",
    "\n",
    "Split data into training, validation, and test sets."
   ]
  },
  {
   "cell_type": "code",
   "execution_count": null,
   "metadata": {},
   "outputs": [],
   "source": [
    "# Prepare data for training\n",
    "X_train, X_val, X_test, y_train, y_val, y_test = loader.prepare_training_data(\n",
    "    data_with_features,\n",
    "    target_col='target',\n",
    "    train_ratio=0.7,\n",
    "    val_ratio=0.15,\n",
    "    test_ratio=0.15\n",
    ")\n",
    "\n",
    "print(f\"📊 Data Split:\")\n",
    "print(f\"Training set: {X_train.shape[0]} samples\")\n",
    "print(f\"Validation set: {X_val.shape[0]} samples\")\n",
    "print(f\"Test set: {X_test.shape[0]} samples\")\n",
    "print(f\"\\nNumber of features: {X_train.shape[1]}\")"
   ]
  },
  {
   "cell_type": "markdown",
   "metadata": {},
   "source": [
    "## 5️⃣ Step 5: Train Machine Learning Models\n",
    "\n",
    "Train multiple models and compare their performance."
   ]
  },
  {
   "cell_type": "code",
   "execution_count": null,
   "metadata": {},
   "outputs": [],
   "source": [
    "from models.ml_models import TradingModel, EnsembleModel\n",
    "\n",
    "# Train Random Forest\n",
    "print(\"🌲 Training Random Forest...\")\n",
    "rf_model = TradingModel(model_type='random_forest', n_estimators=100, random_state=42)\n",
    "rf_model.fit(X_train, y_train, X_val, y_val)\n",
    "\n",
    "# Train XGBoost\n",
    "print(\"🚀 Training XGBoost...\")\n",
    "xgb_model = TradingModel(model_type='xgboost', n_estimators=100, random_state=42)\n",
    "xgb_model.fit(X_train, y_train, X_val, y_val)\n",
    "\n",
    "# Train LightGBM\n",
    "print(\"💡 Training LightGBM...\")\n",
    "lgb_model = TradingModel(model_type='lightgbm', n_estimators=100, random_state=42)\n",
    "lgb_model.fit(X_train, y_train, X_val, y_val)\n",
    "\n",
    "print(\"\\n✅ All models trained!\")"
   ]
  },
  {
   "cell_type": "code",
   "execution_count": null,
   "metadata": {},
   "outputs": [],
   "source": [
    "# Evaluate models on validation set\n",
    "from sklearn.metrics import accuracy_score, precision_score, recall_score, f1_score\n",
    "\n",
    "models = {\n",
    "    'Random Forest': rf_model,\n",
    "    'XGBoost': xgb_model,\n",
    "    'LightGBM': lgb_model\n",
    "}\n",
    "\n",
    "results = []\n",
    "for name, model in models.items():\n",
    "    preds = model.predict(X_val)\n",
    "    results.append({\n",
    "        'Model': name,\n",
    "        'Accuracy': accuracy_score(y_val, preds),\n",
    "        'Precision': precision_score(y_val, preds, average='weighted'),\n",
    "        'Recall': recall_score(y_val, preds, average='weighted'),\n",
    "        'F1 Score': f1_score(y_val, preds, average='weighted')\n",
    "    })\n",
    "\n",
    "results_df = pd.DataFrame(results)\n",
    "print(\"\\n📊 Validation Performance:\")\n",
    "print(results_df.to_string(index=False))\n",
    "\n",
    "# Visualize results\n",
    "fig, ax = plt.subplots(figsize=(10, 6))\n",
    "results_df.set_index('Model')[['Accuracy', 'Precision', 'Recall', 'F1 Score']].plot(kind='bar', ax=ax)\n",
    "plt.title('Model Performance Comparison', fontsize=16, fontweight='bold')\n",
    "plt.ylabel('Score', fontsize=12)\n",
    "plt.xticks(rotation=45)\n",
    "plt.legend(loc='lower right')\n",
    "plt.grid(True, alpha=0.3)\n",
    "plt.tight_layout()\n",
    "plt.show()"
   ]
  },
  {
   "cell_type": "markdown",
   "metadata": {},
   "source": [
    "## 6️⃣ Step 6: Create Ensemble Model\n",
    "\n",
    "Combine models for better performance."
   ]
  },
  {
   "cell_type": "code",
   "execution_count": null,
   "metadata": {},
   "outputs": [],
   "source": [
    "# Create ensemble\n",
    "ensemble = EnsembleModel([rf_model, xgb_model, lgb_model], voting='soft')\n",
    "ensemble.fit(X_train, y_train, X_val, y_val)\n",
    "\n",
    "# Evaluate ensemble\n",
    "ensemble_preds = ensemble.predict(X_val)\n",
    "print(\"\\n🎯 Ensemble Model Performance:\")\n",
    "print(f\"Accuracy: {accuracy_score(y_val, ensemble_preds):.4f}\")\n",
    "print(f\"Precision: {precision_score(y_val, ensemble_preds, average='weighted'):.4f}\")\n",
    "print(f\"Recall: {recall_score(y_val, ensemble_preds, average='weighted'):.4f}\")\n",
    "print(f\"F1 Score: {f1_score(y_val, ensemble_preds, average='weighted'):.4f}\")"
   ]
  },
  {
   "cell_type": "markdown",
   "metadata": {},
   "source": [
    "## 7️⃣ Step 7: Feature Importance Analysis"
   ]
  },
  {
   "cell_type": "code",
   "execution_count": null,
   "metadata": {},
   "outputs": [],
   "source": [
    "# Get feature importance from Random Forest\n",
    "feature_importance = rf_model.get_feature_importance(top_n=15)\n",
    "\n",
    "print(\"\\n🎯 Top 15 Most Important Features:\")\n",
    "print(feature_importance)\n",
    "\n",
    "# Visualize feature importance\n",
    "plt.figure(figsize=(12, 8))\n",
    "plt.barh(range(len(feature_importance)), feature_importance.values())\n",
    "plt.yticks(range(len(feature_importance)), feature_importance.keys())\n",
    "plt.xlabel('Importance', fontsize=12)\n",
    "plt.title('Top 15 Feature Importance (Random Forest)', fontsize=16, fontweight='bold')\n",
    "plt.gca().invert_yaxis()\n",
    "plt.grid(True, alpha=0.3, axis='x')\n",
    "plt.tight_layout()\n",
    "plt.show()"
   ]
  },
  {
   "cell_type": "markdown",
   "metadata": {},
   "source": [
    "## 8️⃣ Step 8: Backtesting\n",
    "\n",
    "Test the strategy on unseen data."
   ]
  },
  {
   "cell_type": "code",
   "execution_count": null,
   "metadata": {},
   "outputs": [],
   "source": [
    "from backtesting.backtest_engine import BacktestEngine\n",
    "\n",
    "# Initialize backtest engine\n",
    "backtest = BacktestEngine(\n",
    "    initial_capital=100000,\n",
    "    commission=0.001,  # 0.1%\n",
    "    slippage=0.0005    # 0.05%\n",
    ")\n",
    "\n",
    "# Generate signals from ensemble predictions\n",
    "predictions = ensemble.predict_proba(X_test)\n",
    "signals = backtest.generate_signals_from_predictions(predictions, threshold=0.55)\n",
    "\n",
    "# Get corresponding test data with dates\n",
    "test_data = data_with_features.iloc[-len(X_test):].copy()\n",
    "\n",
    "# Run backtest\n",
    "results = backtest.run_backtest(test_data, signals, price_col='close')\n",
    "\n",
    "print(\"\\n\" + \"=\"*80)\n",
    "print(\"BACKTEST RESULTS\")\n",
    "print(\"=\"*80)\n",
    "print(f\"Initial Capital:       ${results.initial_capital:,.2f}\")\n",
    "print(f\"Final Portfolio Value: ${results.final_value:,.2f}\")\n",
    "print(f\"Total Return:          {results.total_return:.2%}\")\n",
    "print(f\"Annualized Return:     {results.annualized_return:.2%}\")\n",
    "print(f\"Sharpe Ratio:          {results.sharpe_ratio:.2f}\")\n",
    "print(f\"Max Drawdown:          {results.max_drawdown:.2%}\")\n",
    "print(f\"Win Rate:              {results.win_rate:.2%}\")\n",
    "print(f\"Profit Factor:         {results.profit_factor:.2f}\")\n",
    "print(f\"Total Trades:          {results.total_trades}\")\n",
    "print(\"=\"*80)"
   ]
  },
  {
   "cell_type": "code",
   "execution_count": null,
   "metadata": {},
   "outputs": [],
   "source": [
    "# Visualize portfolio performance\n",
    "portfolio_values = results.portfolio_values\n",
    "\n",
    "fig, axes = plt.subplots(2, 1, figsize=(14, 10))\n",
    "\n",
    "# Plot 1: Portfolio Value Over Time\n",
    "axes[0].plot(portfolio_values.index, portfolio_values, linewidth=2, color='green')\n",
    "axes[0].axhline(y=results.initial_capital, color='blue', linestyle='--', alpha=0.5, label='Initial Capital')\n",
    "axes[0].set_title('Portfolio Value Over Time', fontsize=16, fontweight='bold')\n",
    "axes[0].set_ylabel('Value ($)', fontsize=12)\n",
    "axes[0].legend()\n",
    "axes[0].grid(True, alpha=0.3)\n",
    "axes[0].fill_between(portfolio_values.index, results.initial_capital, portfolio_values, \n",
    "                      where=(portfolio_values >= results.initial_capital), alpha=0.3, color='green')\n",
    "axes[0].fill_between(portfolio_values.index, results.initial_capital, portfolio_values, \n",
    "                      where=(portfolio_values < results.initial_capital), alpha=0.3, color='red')\n",
    "\n",
    "# Plot 2: Drawdown\n",
    "drawdowns = results.drawdowns\n",
    "axes[1].fill_between(drawdowns.index, 0, drawdowns * 100, color='red', alpha=0.5)\n",
    "axes[1].set_title('Drawdown Over Time', fontsize=16, fontweight='bold')\n",
    "axes[1].set_xlabel('Date', fontsize=12)\n",
    "axes[1].set_ylabel('Drawdown (%)', fontsize=12)\n",
    "axes[1].grid(True, alpha=0.3)\n",
    "\n",
    "plt.tight_layout()\n",
    "plt.show()"
   ]
  },
  {
   "cell_type": "markdown",
   "metadata": {},
   "source": [
    "## 🎉 Conclusion\n",
    "\n",
    "You've successfully:\n",
    "- ✅ Loaded market data\n",
    "- ✅ Created technical indicators\n",
    "- ✅ Trained multiple ML models\n",
    "- ✅ Created an ensemble model\n",
    "- ✅ Analyzed feature importance\n",
    "- ✅ Backtested your strategy\n",
    "- ✅ Visualized performance metrics\n",
    "\n",
    "## 📚 Next Steps\n",
    "\n",
    "1. Try different technical indicators\n",
    "2. Tune hyperparameters with Optuna\n",
    "3. Experiment with different prediction horizons\n",
    "4. Test on real market data\n",
    "5. Implement custom trading strategies\n",
    "\n",
    "## ⚠️ Remember\n",
    "\n",
    "This is for **educational purposes only**. Always:\n",
    "- Thoroughly test any strategy before using real money\n",
    "- Understand the risks involved in trading\n",
    "- Consult with financial professionals\n",
    "- Never risk more than you can afford to lose"
   ]
  }
 ],
 "metadata": {
  "kernelspec": {
   "display_name": "Python 3",
   "language": "python",
   "name": "python3"
  },
  "language_info": {
   "codemirror_mode": {
    "name": "ipython",
    "version": 3
   },
   "file_extension": ".py",
   "mimetype": "text/x-python",
   "name": "python",
   "nbconvert_exporter": "python",
   "pygments_lexer": "ipython3",
   "version": "3.9.0"
  }
 },
 "nbformat": 4,
 "nbformat_minor": 4
}
